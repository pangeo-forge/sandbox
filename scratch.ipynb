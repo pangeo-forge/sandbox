{
 "cells": [
  {
   "cell_type": "markdown",
   "id": "99448240-42ab-4410-9cc9-8ec542d0a58e",
   "metadata": {},
   "source": [
    "# Pangeo Forge Sandbox: Scratch Notebook\n",
    "\n",
    "Welcome to the **Pangeo Forge Sandbox** scratch notebook. We've provided this blank notebook for you to run any code snippets related to Pangeo Forge quickly and easily, right in your browser. All of the dependencies you need should be pre-installed. Happy coding!\n",
    "\n",
    "> **Note**: If you are a first-time recipe contributor, you might prefer our pre-configured sandbox workspace. To open it, just double click `sandbox.jupyterlab-workspace` in the file browser on the left of your screen."
   ]
  },
  {
   "cell_type": "code",
   "execution_count": null,
   "id": "f72f054f-d215-471d-9c82-a89ee4b9726e",
   "metadata": {},
   "outputs": [],
   "source": [
    "# Start coding here!\n",
    "\n"
   ]
  }
 ],
 "metadata": {
  "kernelspec": {
   "display_name": "Python 3 (ipykernel)",
   "language": "python",
   "name": "python3"
  },
  "language_info": {
   "codemirror_mode": {
    "name": "ipython",
    "version": 3
   },
   "file_extension": ".py",
   "mimetype": "text/x-python",
   "name": "python",
   "nbconvert_exporter": "python",
   "pygments_lexer": "ipython3",
   "version": "3.9.10"
  }
 },
 "nbformat": 4,
 "nbformat_minor": 5
}
